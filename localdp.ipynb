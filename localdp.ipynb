{
  "nbformat": 4,
  "nbformat_minor": 0,
  "metadata": {
    "colab": {
      "name": "Untitled6.ipynb",
      "version": "0.3.2",
      "provenance": [],
      "collapsed_sections": [],
      "include_colab_link": true
    },
    "kernelspec": {
      "name": "python3",
      "display_name": "Python 3"
    }
  },
  "cells": [
    {
      "cell_type": "markdown",
      "metadata": {
        "id": "view-in-github",
        "colab_type": "text"
      },
      "source": [
        "<a href=\"https://colab.research.google.com/github/AdrianHarman/DLrepo/blob/master/localdp.ipynb\" target=\"_parent\"><img src=\"https://colab.research.google.com/assets/colab-badge.svg\" alt=\"Open In Colab\"/></a>"
      ]
    },
    {
      "cell_type": "code",
      "metadata": {
        "id": "AUFQ-o3JMxXl",
        "colab_type": "code",
        "colab": {}
      },
      "source": [
        "import torch"
      ],
      "execution_count": 0,
      "outputs": []
    },
    {
      "cell_type": "code",
      "metadata": {
        "id": "F9MSTvUxNxnn",
        "colab_type": "code",
        "colab": {}
      },
      "source": [
        "def create_db_pds(n_entries):\n",
        "  db = torch.rand(n_entries)>0.5\n",
        "  \n",
        "  def get_pdb(db, rm_index):\n",
        "    return torch.cat((db[0:rm_index],\n",
        "                      db[rm_index+1:]))\n",
        "  parallel_dbs = list()\n",
        "  \n",
        "  for i in range(len(db)):\n",
        "    pdb = get_pdb(db, i)\n",
        "    parallel_dbs.append(pdb)\n",
        "  \n",
        "  return db, parallel_dbs"
      ],
      "execution_count": 0,
      "outputs": []
    },
    {
      "cell_type": "code",
      "metadata": {
        "id": "RLDvxLgCVOLP",
        "colab_type": "code",
        "outputId": "699a6945-de71-490d-d0ca-a79ca71f1412",
        "colab": {
          "base_uri": "https://localhost:8080/",
          "height": 34
        }
      },
      "source": [
        "db, pdbs = create_db_pds(10)\n",
        "db  "
      ],
      "execution_count": 9,
      "outputs": [
        {
          "output_type": "execute_result",
          "data": {
            "text/plain": [
              "tensor([0, 1, 1, 1, 1, 0, 0, 0, 0, 1], dtype=torch.uint8)"
            ]
          },
          "metadata": {
            "tags": []
          },
          "execution_count": 9
        }
      ]
    },
    {
      "cell_type": "code",
      "metadata": {
        "id": "D-QzOFAbWP6r",
        "colab_type": "code",
        "outputId": "a93c0857-15ec-4849-b298-872829cd4530",
        "colab": {
          "base_uri": "https://localhost:8080/",
          "height": 34
        }
      },
      "source": [
        "def query(db, threshold=5):\n",
        "  return (db.sum() > threshold).float()\n",
        "\n",
        "query(db)"
      ],
      "execution_count": 10,
      "outputs": [
        {
          "output_type": "execute_result",
          "data": {
            "text/plain": [
              "tensor(0.)"
            ]
          },
          "metadata": {
            "tags": []
          },
          "execution_count": 10
        }
      ]
    },
    {
      "cell_type": "code",
      "metadata": {
        "id": "fXJIr_K9Wr8B",
        "colab_type": "code",
        "colab": {}
      },
      "source": [
        "db, pdbs = create_db_pds(10)"
      ],
      "execution_count": 0,
      "outputs": []
    },
    {
      "cell_type": "code",
      "metadata": {
        "id": "jP928aaax3AH",
        "colab_type": "code",
        "outputId": "dbfad72b-4d9d-45ac-9c5a-7d7722a8338d",
        "colab": {
          "base_uri": "https://localhost:8080/",
          "height": 34
        }
      },
      "source": [
        "db"
      ],
      "execution_count": 0,
      "outputs": [
        {
          "output_type": "execute_result",
          "data": {
            "text/plain": [
              "tensor([1, 0, 1, 0, 0, 0, 0, 1, 1, 0], dtype=torch.uint8)"
            ]
          },
          "metadata": {
            "tags": []
          },
          "execution_count": 61
        }
      ]
    },
    {
      "cell_type": "code",
      "metadata": {
        "id": "l3HeiSKRx5Uj",
        "colab_type": "code",
        "outputId": "b518f929-0b6f-4e06-e556-729a35953161",
        "colab": {
          "base_uri": "https://localhost:8080/",
          "height": 34
        }
      },
      "source": [
        "fcf = torch.rand(10)>0.5\n",
        "fcf"
      ],
      "execution_count": 13,
      "outputs": [
        {
          "output_type": "execute_result",
          "data": {
            "text/plain": [
              "tensor([1, 1, 0, 1, 0, 1, 1, 1, 1, 0], dtype=torch.uint8)"
            ]
          },
          "metadata": {
            "tags": []
          },
          "execution_count": 13
        }
      ]
    },
    {
      "cell_type": "code",
      "metadata": {
        "id": "IEd35pJcyIb-",
        "colab_type": "code",
        "outputId": "2bc7894a-de0a-4426-f2d8-c982eac06691",
        "colab": {
          "base_uri": "https://localhost:8080/",
          "height": 34
        }
      },
      "source": [
        "scf = torch.rand(10)>0.5\n",
        "scf"
      ],
      "execution_count": 14,
      "outputs": [
        {
          "output_type": "execute_result",
          "data": {
            "text/plain": [
              "tensor([1, 0, 1, 0, 1, 0, 1, 0, 0, 0], dtype=torch.uint8)"
            ]
          },
          "metadata": {
            "tags": []
          },
          "execution_count": 14
        }
      ]
    },
    {
      "cell_type": "code",
      "metadata": {
        "id": "SvGQXeOuySLT",
        "colab_type": "code",
        "outputId": "2a8357ad-95b6-4f0a-8be0-27e6f80e59ff",
        "colab": {
          "base_uri": "https://localhost:8080/",
          "height": 34
        }
      },
      "source": [
        "\n",
        "augmented_db = db.float() * fcf.float() + (1-fcf.float())*scf.float()\n",
        "augmented_db"
      ],
      "execution_count": 15,
      "outputs": [
        {
          "output_type": "execute_result",
          "data": {
            "text/plain": [
              "tensor([0., 0., 1., 0., 1., 0., 1., 0., 0., 0.])"
            ]
          },
          "metadata": {
            "tags": []
          },
          "execution_count": 15
        }
      ]
    }
  ]
}